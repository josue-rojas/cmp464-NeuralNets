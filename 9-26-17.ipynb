{
 "cells": [
  {
   "cell_type": "markdown",
   "metadata": {},
   "source": [
    "# Logistic Functions"
   ]
  },
  {
   "cell_type": "markdown",
   "metadata": {
    "collapsed": true
   },
   "source": [
    "When running a Machine Learngin Program you will always have the following matrixes, X_input, Y_Train, Weights and Biases. In many cases the Weights and Biases you will not need to worry about. \n",
    "\n",
    "X_input is represented as input data that you want your program to make a guess on. \n",
    "\n",
    "Y_train is data in the same input as X_input, but with the wanted output attached. This will be used to teach the porgram how to decifer inputs.\n",
    "\n",
    "Weights and Bias are randomly generated and then shifted towards a given input.\n",
    "\n",
    "\n",
    "$ x_{input} = \\left[ \\begin{array}{c}\n",
    "x_{1} \\\\\n",
    "x_{2}  \\\\\n",
    "\\vdots  \\\\\n",
    "x_{M}  \\\\\n",
    "\\end{array} \\right]\n",
    "\\vec Y_{train} = \\left[ \\begin{array}{c}\n",
    "y_{1} \\\\\n",
    "y_{2}  \\\\\n",
    "\\vdots  \\\\\n",
    "y_{M}  \\\\\n",
    "\\end{array} \\right]\n",
    "\\vec W_{eights} = \\left[ \\begin{array}{c}\n",
    "W_{1} \\\\\n",
    "W_{2}  \\\\\n",
    "\\vdots  \\\\\n",
    "W_{M}  \\\\\n",
    "\\end{array} \\right]\n",
    "\\vec B_{ias} = \\left[ \\begin{array}{c}\n",
    "B_{1} \\\\\n",
    "B_{2}  \\\\\n",
    "\\vdots  \\\\\n",
    "B_{M}  \\\\\n",
    "\\end{array} \\right]$"
   ]
  },
  {
   "cell_type": "markdown",
   "metadata": {},
   "source": [
    "the perceptron is an algorithm for supervised learning that allows your code to find a path between input and output with your training data.When you run this through a perceptron you will get the function of X $\\cdot$ Weight (W) + Bias (B)\n",
    "\n",
    "Since the format of X_input is 1 by N we have only 1 feature with N inputs. we will multiply this with the weight and Add the bias and get (Feature) X (Weight) + (Bias) which will look as such: \n",
    "\n",
    "$ \\left[ \\begin{array}{c}\n",
    "x_{1} \\cdot (W)  \\\\\n",
    "x_{2} \\cdot (W)  \\\\\n",
    "\\vdots  \\\\\n",
    "x_{M} \\cdot (W) \\\\\n",
    "\\end{array} \\right\n",
    "]\n",
    "+\n",
    "\\left[ \\begin{array}{c}\n",
    "B_{1}   \\\\\n",
    "B_{2}   \\\\\n",
    "\\vdots  \\\\\n",
    "B_{M}  \\\\\n",
    "\\end{array} \\right]\n",
    " =\n",
    "\\left[ \\begin{array}{c}\n",
    "x_{1} \\cdot (W) +B_{1}   \\\\\n",
    "x_{1} \\cdot (W) +B_{2}   \\\\\n",
    "\\vdots  \\\\\n",
    "x_{1} \\cdot (W) +B_{M}  \\\\\n",
    "\\end{array} \\right] = \\vec D$\n",
    "\n",
    "We want to \"wiggle\" the Weight and bias to try and to get $\\vec D$ as close to $\\vec Y_{train}$ as possible"
   ]
  },
  {
   "cell_type": "markdown",
   "metadata": {},
   "source": [
    "The perceptron is an algorithm for supervised learning to help the code find a path between the x_input and its features. However Now we need to implement the supervised data and subtract that from what we are getting in order to so given the data Y we need to subtract it from $\\vec{D}$ So we will take the two matrixes and subtract them from each other\n",
    "\n",
    "\n",
    "$ \\left[ \\begin{array}{c}\n",
    "x_{1} \\cdot (W) +B_{1}  \\\\\n",
    "x_{2} \\cdot (W) +B_{2}  \\\\\n",
    "\\vdots  \\\\\n",
    "x_{M} \\cdot (W) +B_{M} \\cdot (W) \\\\\n",
    "\\end{array} \\right\n",
    "]\n",
    "-\n",
    "\\left[ \\begin{array}{c}\n",
    "y_{1} \\\\\n",
    "y_{2}  \\\\\n",
    "\\vdots  \\\\\n",
    "y_{M}  \\\\\n",
    "\\end{array} \\right]\n",
    " =\\left[ \\begin{array}{c}\n",
    "(x_{1} \\cdot (W) +B_{1}) - Y_{1}  \\\\\n",
    "(x_{1} \\cdot (W) +B_{2})  - Y_{2} \\\\\n",
    "\\vdots  \\\\\n",
    "(x_{1} \\cdot (W) +B_{M}) - Y_{M} \\\\\n",
    "\\end{array} \\right]$\n",
    "\n",
    "\n"
   ]
  },
  {
   "cell_type": "markdown",
   "metadata": {},
   "source": [
    "If it becomes the case where we will have multiple inputs (many Features) our input Matrix will look as such\n",
    "$ x_{input}= \\left[ \\begin{array}{ccc}\n",
    "x_{00} & \\ldots  &x_{0N}\\\\\n",
    "x_{10} & \\ldots  &x_{1N}\\\\ \\\\\n",
    "\\vdots & \\ldots &  \\vdots \\\\\n",
    "x_{M0} & \\ldots  &x_{MN}\\\\  \\\\\n",
    "\\end{array} \\right]$\n",
    "\n",
    "if we Now our input will look like such\n",
    "\n",
    "$\\left[ \\left[ \\begin{array}{ccc}\n",
    "x_{00} & \\ldots  &x_{0N}\\\\\n",
    "x_{10} & \\ldots  &x_{1N}\\\\ \\\\\n",
    "\\vdots & \\ldots &  \\vdots \\\\\n",
    "x_{M0} & \\ldots  &x_{MN}\\\\  \\\\\n",
    "\\end{array} \\right]\n",
    "*\n",
    "\\left[ \\begin{array}{c}\n",
    "W_{1}   \\\\\n",
    "W_{2}   \\\\\n",
    "\\vdots  \\\\\n",
    "W_{M}  \\\\\n",
    "\\end{array} \\right]\n",
    "\\right ]\n",
    "+\n",
    "\\left[ \\begin{array}{c}\n",
    "B_{1}   \\\\\n",
    "B_{2}   \\\\\n",
    "\\vdots  \\\\\n",
    "B_{M}  \\\\\n",
    "\\end{array} \\right]\n",
    "$\n",
    "\n",
    "\n",
    "with an output of\n",
    "$ \n",
    "\\left[ \\begin{array}\n",
    "\\\\\n",
    "[x_{00} \\cdot w_{0} + x_{01} \\cdot w_{0} + \\cdots + x_{0N} \\dot w_{0} ] + b_{0} \\\\\n",
    "[x_{10} \\cdot w_{0} + x_{11} \\cdot w_{0} + \\cdots + x_{1N} \\dot w_{0} ] + b_{1} \\\\\n",
    " \\vdots \\\\\n",
    "[x_{M0} \\cdot w_{M} + x_{M1} \\cdot w_{M} + \\cdots + x_{MN} \\dot w_{M} ] + b_{M} \\\\\n",
    "\\end{array}\n",
    "\\right ] \n",
    "=\n",
    "\\left[ \\begin{array}{c}\n",
    "Y_{1}   \\\\\n",
    "Y_{2}   \\\\\n",
    "\\vdots  \\\\\n",
    "Y_{M}  \\\\\n",
    "\\end{array} \\right]\n",
    "= \\vec F\n",
    "$"
   ]
  },
  {
   "cell_type": "markdown",
   "metadata": {
    "collapsed": true
   },
   "source": [
    "#### If you have more features than data you will have overfitting and be able to identify something exactly and this can be very bad"
   ]
  },
  {
   "cell_type": "markdown",
   "metadata": {},
   "source": [
    "Cost function is represented as such\n",
    "$\\vec C_{ost} = \\left[ \\begin{array}{c}\n",
    "F_{1} - Y_{train 1}  \\\\\n",
    "F_{2}  - Y_{train 2}\\\\\n",
    "\\vdots  \\\\\n",
    "F_{M} - Y_{train M}\\\\\n",
    "\\end{array} \\right]  ^2$\n",
    "Now that we have the cost function we need to remember that the weight and Bias have been randomly introduced, we will need to minimuze this in order to find the fastest way to get a given result"
   ]
  },
  {
   "cell_type": "code",
   "execution_count": null,
   "metadata": {
    "collapsed": true
   },
   "outputs": [],
   "source": []
  }
 ],
 "metadata": {
  "kernelspec": {
   "display_name": "Python 3",
   "language": "python",
   "name": "python3"
  },
  "language_info": {
   "codemirror_mode": {
    "name": "ipython",
    "version": 3
   },
   "file_extension": ".py",
   "mimetype": "text/x-python",
   "name": "python",
   "nbconvert_exporter": "python",
   "pygments_lexer": "ipython3",
   "version": "3.6.1"
  }
 },
 "nbformat": 4,
 "nbformat_minor": 2
}
